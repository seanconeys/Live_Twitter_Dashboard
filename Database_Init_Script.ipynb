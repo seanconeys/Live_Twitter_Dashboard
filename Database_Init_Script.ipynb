{
 "cells": [
  {
   "cell_type": "code",
   "execution_count": 1,
   "metadata": {},
   "outputs": [],
   "source": [
    "from google.oauth2 import service_account\n",
    "from google.cloud import bigquery"
   ]
  },
  {
   "cell_type": "code",
   "execution_count": 2,
   "metadata": {},
   "outputs": [],
   "source": [
    "#Google Service Account Credentials\n",
    "credentials = service_account.Credentials.from_service_account_file('PATH TO GOOGLE CREDENTIALS')\n",
    "\n",
    "#DBCLIENT INTIALIZATION\n",
    "tweets_table_id = \"TABLE NAME\"\n",
    "keywords_table_id = \"TABLE NAME\"\n",
    "hashtags_table_id = \"TABLE NAME\"\n",
    "company_tweets_table_id = \"TABLE NAME\"\n",
    "replies_table_id = \"TABLE NAME\"\n",
    "followers_table_id = \"TABLE NAME\"\n",
    "project_id = \"PROJECT NAME\"\n",
    "db_client = bigquery.Client(project=project_id, credentials = credentials)"
   ]
  },
  {
   "cell_type": "code",
   "execution_count": 21,
   "metadata": {},
   "outputs": [
    {
     "name": "stdout",
     "output_type": "stream",
     "text": [
      "Created table twitterdash.twitter_dash.tweets\n"
     ]
    }
   ],
   "source": [
    "#Create Tweets Table\n",
    "schema = [\n",
    "    bigquery.SchemaField(\"primary_id\", \"INTEGER\", mode=\"REQUIRED\"),\n",
    "    bigquery.SchemaField(\"created_at\", \"TIMESTAMP\", mode=\"REQUIRED\"),\n",
    "    bigquery.SchemaField(\"text\", \"STRING\", mode=\"REQUIRED\"),\n",
    "    bigquery.SchemaField(\"sentiment\", \"FLOAT64\", mode=\"REQUIRED\")\n",
    "]\n",
    "\n",
    "table = bigquery.Table(tweets_table_id, schema=schema)\n",
    "table = db_client.create_table(table)  # API request\n",
    "print(\n",
    "    \"Created table {}.{}.{}\".format(table.project, table.dataset_id, table.table_id)\n",
    ")"
   ]
  },
  {
   "cell_type": "code",
   "execution_count": 22,
   "metadata": {},
   "outputs": [
    {
     "name": "stdout",
     "output_type": "stream",
     "text": [
      "Created table twitterdash.twitter_dash.keywords\n"
     ]
    }
   ],
   "source": [
    "#Create Keywords Table\n",
    "schema = [\n",
    "    bigquery.SchemaField(\"created_at\", \"TIMESTAMP\", mode=\"REQUIRED\"),\n",
    "    bigquery.SchemaField(\"keyword\", \"STRING\", mode=\"REQUIRED\"),\n",
    "    bigquery.SchemaField(\"tweet_id\", \"INTEGER\", mode=\"REQUIRED\")\n",
    "]\n",
    "\n",
    "table = bigquery.Table(keywords_table_id, schema=schema)\n",
    "table = db_client.create_table(table)  # API request\n",
    "print(\n",
    "    \"Created table {}.{}.{}\".format(table.project, table.dataset_id, table.table_id)\n",
    ")"
   ]
  },
  {
   "cell_type": "code",
   "execution_count": 23,
   "metadata": {},
   "outputs": [
    {
     "name": "stdout",
     "output_type": "stream",
     "text": [
      "Created table twitterdash.twitter_dash.hashtags\n"
     ]
    }
   ],
   "source": [
    "#Create Hashtags Table\n",
    "schema = [\n",
    "    bigquery.SchemaField(\"created_at\", \"TIMESTAMP\", mode=\"REQUIRED\"),\n",
    "    bigquery.SchemaField(\"hashtag\", \"STRING\", mode=\"REQUIRED\"),\n",
    "    bigquery.SchemaField(\"tweet_id\", \"INTEGER\", mode=\"REQUIRED\")\n",
    "]\n",
    "\n",
    "table = bigquery.Table(hashtags_table_id, schema=schema)\n",
    "table = db_client.create_table(table)  # API request\n",
    "print(\n",
    "    \"Created table {}.{}.{}\".format(table.project, table.dataset_id, table.table_id)\n",
    ")"
   ]
  },
  {
   "cell_type": "code",
   "execution_count": 4,
   "metadata": {},
   "outputs": [
    {
     "name": "stdout",
     "output_type": "stream",
     "text": [
      "Created table twitterdash.twitter_dash.company_tweets\n"
     ]
    }
   ],
   "source": [
    "#Create Company Tweets Table\n",
    "schema = [\n",
    "    bigquery.SchemaField(\"primary_id\", \"INTEGER\", mode=\"REQUIRED\"),\n",
    "    bigquery.SchemaField(\"tweet_id\", \"INTEGER\", mode=\"REQUIRED\"),\n",
    "    bigquery.SchemaField(\"created_at\", \"TIMESTAMP\", mode=\"REQUIRED\"),\n",
    "    bigquery.SchemaField(\"text\", \"STRING\", mode=\"REQUIRED\"),\n",
    "    bigquery.SchemaField(\"favorites\", \"INTEGER\", mode=\"REQUIRED\"),\n",
    "    bigquery.SchemaField(\"retweets\", \"INTEGER\", mode=\"REQUIRED\")\n",
    "]\n",
    "\n",
    "table = bigquery.Table(company_tweets_table_id, schema=schema)\n",
    "table = db_client.create_table(table)  # API request\n",
    "print(\n",
    "    \"Created table {}.{}.{}\".format(table.project, table.dataset_id, table.table_id)\n",
    ")"
   ]
  },
  {
   "cell_type": "code",
   "execution_count": 4,
   "metadata": {},
   "outputs": [
    {
     "name": "stdout",
     "output_type": "stream",
     "text": [
      "Created table twitterdash.twitter_dash.replies\n"
     ]
    }
   ],
   "source": [
    "#Create Replies Table\n",
    "schema = [\n",
    "    bigquery.SchemaField(\"primary_id\", \"INTEGER\", mode=\"REQUIRED\"),\n",
    "    bigquery.SchemaField(\"response_id\", \"INTEGER\", mode=\"REQUIRED\"),\n",
    "    bigquery.SchemaField(\"created_at\", \"TIMESTAMP\", mode=\"REQUIRED\"),\n",
    "    bigquery.SchemaField(\"text\", \"STRING\", mode=\"REQUIRED\"),\n",
    "    bigquery.SchemaField(\"sentiment\", \"FLOAT64\", mode=\"REQUIRED\")\n",
    "]\n",
    "\n",
    "table = bigquery.Table(replies_table_id, schema=schema)\n",
    "table = db_client.create_table(table)  # API request\n",
    "print(\n",
    "    \"Created table {}.{}.{}\".format(table.project, table.dataset_id, table.table_id)\n",
    ")"
   ]
  },
  {
   "cell_type": "code",
   "execution_count": 3,
   "metadata": {},
   "outputs": [
    {
     "name": "stdout",
     "output_type": "stream",
     "text": [
      "Created table twitterdash.twitter_dash.followers\n"
     ]
    }
   ],
   "source": [
    "#Create Followers Table\n",
    "schema = [\n",
    "    bigquery.SchemaField(\"primary_id\", \"INTEGER\", mode=\"REQUIRED\"),\n",
    "    bigquery.SchemaField(\"created_at\", \"TIMESTAMP\", mode=\"REQUIRED\"),\n",
    "    bigquery.SchemaField(\"followers\", \"INTEGER\", mode=\"REQUIRED\")\n",
    "]\n",
    "\n",
    "table = bigquery.Table(followers_table_id, schema=schema)\n",
    "table = db_client.create_table(table)  # API request\n",
    "print(\n",
    "    \"Created table {}.{}.{}\".format(table.project, table.dataset_id, table.table_id)\n",
    ")"
   ]
  },
  {
   "cell_type": "code",
   "execution_count": null,
   "metadata": {},
   "outputs": [],
   "source": []
  }
 ],
 "metadata": {
  "kernelspec": {
   "display_name": "Python 3",
   "language": "python",
   "name": "python3"
  },
  "language_info": {
   "codemirror_mode": {
    "name": "ipython",
    "version": 3
   },
   "file_extension": ".py",
   "mimetype": "text/x-python",
   "name": "python",
   "nbconvert_exporter": "python",
   "pygments_lexer": "ipython3",
   "version": "3.6.8"
  }
 },
 "nbformat": 4,
 "nbformat_minor": 2
}
